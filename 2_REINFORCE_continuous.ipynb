{
  "nbformat": 4,
  "nbformat_minor": 0,
  "metadata": {
    "colab": {
      "name": "2_REINFORCE_continuous.ipynb",
      "provenance": [],
      "collapsed_sections": []
    },
    "kernelspec": {
      "name": "python3",
      "display_name": "Python 3"
    },
    "language_info": {
      "name": "python"
    },
    "accelerator": "GPU"
  },
  "cells": [
    {
      "cell_type": "markdown",
      "source": [
        "# REINFORCE for continuous action spaces"
      ],
      "metadata": {
        "id": "m1fDTR8FNJVX"
      }
    },
    {
      "cell_type": "code",
      "source": [
        "!apt-get install -y xvfb\n",
        "\n",
        "!pip install gym==0.23.1 \\\n",
        "    pytorch-lightning==1.6 \\\n",
        "    pyvirtualdisplay\n",
        "\n",
        "!pip install git+https://github.com/google/brax.git@v0.0.12 \n",
        "import warnings \n",
        "warnings.filterwarnings('ignore')"      ],
      "metadata": {
        "id": "Uvj2rXR2f1Kw"
      },
      "execution_count": null,
      "outputs": []
    },
    {
      "cell_type": "markdown",
      "metadata": {
        "id": "ZOSJl-X7zvs4"
      },
      "source": [
        "#### Setup virtual display"
      ]
    },
    {
      "cell_type": "code",
      "execution_count": null,
      "metadata": {
        "id": "B-Z6takfzqGk"
      },
      "outputs": [],
      "source": [
        "from pyvirtualdisplay import Display\n",
        "Display(visible=False, size=(1400, 900)).start()"
      ]
    },
    {
      "cell_type": "markdown",
      "metadata": {
        "id": "Cz8DLleGz_TF"
      },
      "source": [
        "#### Import the necessary code libraries"
      ]
    },
    {
      "cell_type": "code",
      "execution_count": null,
      "metadata": {
        "id": "cP5t6U7-nYoc"
      },
      "outputs": [],
      "source": [
        "import copy\n",
        "import torch\n",
        "import random\n",
        "import gym\n",
        "import matplotlib\n",
        "import functools\n",
        "import math\n",
        "\n",
        "import numpy as np\n",
        "import matplotlib.pyplot as plt\n",
        "\n",
        "import torch.nn.functional as F\n",
        "\n",
        "from collections import deque, namedtuple\n",
        "from IPython.display import HTML\n",
        "from base64 import b64encode\n",
        "\n",
        "from torch import nn\n",
        "from torch.utils.data import DataLoader\n",
        "from torch.utils.data.dataset import IterableDataset\n",
        "from torch.optim import AdamW\n",
        "\n",
        "from torch.distributions import Normal\n",
        "\n",
        "from pytorch_lightning import LightningModule, Trainer\n",
        "\n",
        "import brax\n",
        "from brax import envs\n",
        "from brax.envs import to_torch\n",
        "from brax.io import html\n",
        "\n",
        "device = 'cuda:0' if torch.cuda.is_available() else 'cpu'\n",
        "num_gpus = torch.cuda.device_count()\n",
        "\n",
        "v = torch.ones(1, device='cuda')"
      ]
    },
    {
      "cell_type": "code",
      "source": [
        "@torch.no_grad()\n",
        "def plot_policy(policy):\n",
        "  pos = np.linspace(-4.8, 4.8, 100)\n",
        "  vel = np.random.random(size=(10000, 1)) * 0.1\n",
        "  ang = np.linspace(-0.418, 0.418, 100)\n",
        "  ang_vel = np.random.random(size=(10000, 1)) * 0.1\n",
        "\n",
        "  g1, g2 = np.meshgrid(pos, ang)\n",
        "  grid = np.stack((g1,g2), axis=-1)\n",
        "  grid = grid.reshape(-1, 2)\n",
        "  grid = np.hstack((grid, vel, ang_vel))\n",
        "\n",
        "  grid = torch.from_numpy(grid).float()\n",
        "  loc, _ = policy(grid)\n",
        "\n",
        "  plot_vals = loc.numpy()\n",
        "  plot_vals = plot_vals.reshape(100, 100)[::-1]\n",
        "\n",
        "  plt.figure(figsize=(8, 8))\n",
        "  plt.imshow(plot_vals, cmap='coolwarm')\n",
        "  plt.colorbar()\n",
        "  plt.clim(-1, 1)\n",
        "  plt.title(\"P(left | s)\", size=20)\n",
        "  plt.xlabel(\"Cart Position\", size=14)\n",
        "  plt.ylabel(\"Pole angle\", size=14)\n",
        "  plt.xticks(ticks=[0, 50, 100], labels=['-4.8', '0', '4.8'])\n",
        "  plt.yticks(ticks=[100, 50, 0], labels=['-0.418', '0', '0.418'])\n",
        "\n",
        "\n",
        "@torch.no_grad()\n",
        "def create_video(env, episode_length, policy=None):\n",
        "  qp_array = []\n",
        "  state = env.reset()\n",
        "  for i in range(episode_length):\n",
        "    if policy:\n",
        "      loc, scale = policy(state)\n",
        "      sample = torch.normal(loc, scale)\n",
        "      action = torch.tanh(sample)\n",
        "    else:\n",
        "      action = env.action_space.sample()\n",
        "    state, _, _, _ = env.step(action)\n",
        "    qp_array.append(env.unwrapped._state.qp)\n",
        "  return HTML(html.render(env.unwrapped._env.sys, qp_array))\n",
        "\n",
        "\n",
        "@torch.no_grad()\n",
        "def test_agent(env, episode_length, policy, episodes=10):\n",
        "  ep_returns = []\n",
        "  for ep in range(episodes):\n",
        "    state = env.reset()\n",
        "    done = False\n",
        "    ep_ret = 0.0\n",
        "\n",
        "    while not done:\n",
        "      loc, scale = policy(state)\n",
        "      sample = torch.normal(loc, scale)\n",
        "      action = torch.tanh(sample)   \n",
        "      state, reward, done, info = env.step(action)\n",
        "      ep_ret += reward.item()\n",
        "\n",
        "    ep_returns.append(ep_ret)\n",
        "\n",
        "  return sum(ep_returns) / episodes  "
      ],
      "metadata": {
        "id": "vLpKsS8qPzsN"
      },
      "execution_count": null,
      "outputs": []
    },
    {
      "cell_type": "markdown",
      "source": [
        "#### Create the policy"
      ],
      "metadata": {
        "id": "CSsBrSxYIkh8"
      }
    },
    {
      "cell_type": "code",
      "source": [
        ""
      ],
      "metadata": {
        "id": "7hht5L2bjiNw"
      },
      "execution_count": null,
      "outputs": []
    },
    {
      "cell_type": "markdown",
      "source": [
        "#### Create the environment"
      ],
      "metadata": {
        "id": "d2EMZSjMIxgr"
      }
    },
    {
      "cell_type": "code",
      "source": [
        "class RunningMeanStd:\n",
        "    # https://en.wikipedia.org/wiki/Algorithms_for_calculating_variance#Parallel_algorithm\n",
        "    def __init__(self, epsilon=1e-4, shape=()):\n",
        "        self.mean = torch.zeros(shape, dtype=torch.float32).to(device)\n",
        "        self.var = torch.ones(shape, dtype=torch.float32).to(device)\n",
        "        self.count = epsilon\n",
        "\n",
        "    def update(self, x):\n",
        "        batch_mean = torch.mean(x, dim=0)\n",
        "        batch_var = torch.var(x, dim=0)\n",
        "        batch_count = x.shape[0]\n",
        "        self.update_from_moments(batch_mean, batch_var, batch_count)\n",
        "\n",
        "    def update_from_moments(self, batch_mean, batch_var, batch_count):\n",
        "        self.mean, self.var, self.count = update_mean_var_count_from_moments(\n",
        "            self.mean, self.var, self.count, batch_mean, batch_var, batch_count\n",
        "        )\n",
        "\n",
        "\n",
        "def update_mean_var_count_from_moments(\n",
        "    mean, var, count, batch_mean, batch_var, batch_count\n",
        "):\n",
        "    delta = batch_mean - mean\n",
        "    tot_count = count + batch_count\n",
        "\n",
        "    new_mean = mean + delta * batch_count / tot_count\n",
        "    m_a = var * count\n",
        "    m_b = batch_var * batch_count\n",
        "    M2 = m_a + m_b + torch.square(delta) * count * batch_count / tot_count\n",
        "    new_var = M2 / tot_count\n",
        "    new_count = tot_count\n",
        "\n",
        "    return new_mean, new_var, new_count\n",
        "\n",
        "\n",
        "class NormalizeObservation(gym.core.Wrapper):\n",
        "\n",
        "    def __init__(self, env, epsilon=1e-8):\n",
        "        super().__init__(env)\n",
        "        self.num_envs = getattr(env, \"num_envs\", 1)\n",
        "        self.obs_rms = RunningMeanStd(shape=self.observation_space.shape[-1])\n",
        "        self.epsilon = epsilon\n",
        "\n",
        "    def step(self, action):\n",
        "        obs, rews, dones, infos = self.env.step(action)\n",
        "        obs = self.normalize(obs)\n",
        "        return obs, rews, dones, infos\n",
        "\n",
        "    def reset(self, **kwargs):\n",
        "        return_info = kwargs.get(\"return_info\", False)\n",
        "        if return_info:\n",
        "            obs, info = self.env.reset(**kwargs)\n",
        "        else:\n",
        "            obs = self.env.reset(**kwargs)\n",
        "        obs = self.normalize(obs)\n",
        "        if not return_info:\n",
        "            return obs\n",
        "        else:\n",
        "            return obs, info\n",
        "\n",
        "    def normalize(self, obs):\n",
        "        self.obs_rms.update(obs)\n",
        "        return (obs - self.obs_rms.mean) / torch.sqrt(self.obs_rms.var + self.epsilon)\n",
        "\n",
        "\n",
        "class NormalizeReward(gym.core.Wrapper):\n",
        "\n",
        "    def __init__(self, env, gamma=0.99, epsilon=1e-8):\n",
        "        super().__init__(env)\n",
        "        self.num_envs = getattr(env, \"num_envs\", 1)\n",
        "        self.return_rms = RunningMeanStd(shape=())\n",
        "        self.returns = torch.zeros(self.num_envs).to(device)\n",
        "        self.gamma = gamma\n",
        "        self.epsilon = epsilon\n",
        "\n",
        "    def step(self, action):\n",
        "        obs, rews, dones, infos = self.env.step(action)\n",
        "        dones = dones.bool()\n",
        "        self.returns = self.returns * self.gamma + rews\n",
        "        rews = self.normalize(rews)\n",
        "        self.returns[dones] = 0.0\n",
        "        return obs, rews, dones, infos\n",
        "\n",
        "    def normalize(self, rews):\n",
        "        self.return_rms.update(self.returns)\n",
        "        return rews / torch.sqrt(self.return_rms.var + self.epsilon)"
      ],
      "metadata": {
        "id": "t-AI3Jbkr4sA"
      },
      "execution_count": null,
      "outputs": []
    },
    {
      "cell_type": "code",
      "source": [
        "entry_point = functools.partial(envs.create_gym_env, env_name='inverted_pendulum')\n",
        "gym.register('brax-inverted_pendulum-v0', entry_point=entry_point)"
      ],
      "metadata": {
        "id": "HpD2i_ZSHRmN"
      },
      "execution_count": null,
      "outputs": []
    },
    {
      "cell_type": "code",
      "source": [
        ""
      ],
      "metadata": {
        "id": "JX4y_05HHRpD"
      },
      "execution_count": null,
      "outputs": []
    },
    {
      "cell_type": "code",
      "source": [
        ""
      ],
      "metadata": {
        "id": "NEVW69uEcjBA"
      },
      "execution_count": null,
      "outputs": []
    },
    {
      "cell_type": "code",
      "source": [
        ""
      ],
      "metadata": {
        "id": "zEhh8tbITjvt"
      },
      "execution_count": null,
      "outputs": []
    },
    {
      "cell_type": "code",
      "source": [
        ""
      ],
      "metadata": {
        "id": "IADKlcHhhaPj"
      },
      "execution_count": null,
      "outputs": []
    },
    {
      "cell_type": "code",
      "source": [
        ""
      ],
      "metadata": {
        "id": "7WPLsdLwTjyZ"
      },
      "execution_count": null,
      "outputs": []
    },
    {
      "cell_type": "code",
      "source": [
        ""
      ],
      "metadata": {
        "id": "k_LlyDyuWFcX"
      },
      "execution_count": null,
      "outputs": []
    },
    {
      "cell_type": "code",
      "source": [
        ""
      ],
      "metadata": {
        "id": "Vl4GvpJ4Yvl9"
      },
      "execution_count": null,
      "outputs": []
    },
    {
      "cell_type": "markdown",
      "source": [
        "#### Plot the untrained policy"
      ],
      "metadata": {
        "id": "i81fuTi2dCqW"
      }
    },
    {
      "cell_type": "code",
      "source": [
        ""
      ],
      "metadata": {
        "id": "q7viOy02c3pc"
      },
      "execution_count": null,
      "outputs": []
    },
    {
      "cell_type": "markdown",
      "source": [
        "#### Create the dataset"
      ],
      "metadata": {
        "id": "8hI3qJPwI4Xo"
      }
    },
    {
      "cell_type": "code",
      "source": [
        ""
      ],
      "metadata": {
        "id": "pEJnLgAnV_iR"
      },
      "execution_count": null,
      "outputs": []
    },
    {
      "cell_type": "markdown",
      "source": [
        "#### Create the REINFORCE algorithm"
      ],
      "metadata": {
        "id": "jndaQdW1Oklk"
      }
    },
    {
      "cell_type": "code",
      "source": [
        ""
      ],
      "metadata": {
        "id": "by58vmNAV_lP"
      },
      "execution_count": null,
      "outputs": []
    },
    {
      "cell_type": "markdown",
      "source": [
        "#### Purge logs and run the visualization tool (Tensorboard)"
      ],
      "metadata": {
        "id": "qeohpzJXRdqr"
      }
    },
    {
      "cell_type": "code",
      "source": [
        "# Start tensorboard.\n",
        "!rm -r /content/lightning_logs/\n",
        "!rm -r /content/videos/\n",
        "%load_ext tensorboard\n",
        "%tensorboard --logdir /content/lightning_logs/"
      ],
      "metadata": {
        "id": "QoZw9WYCTB8C"
      },
      "execution_count": null,
      "outputs": []
    },
    {
      "cell_type": "markdown",
      "source": [
        "#### Train the policy"
      ],
      "metadata": {
        "id": "_zI1Z2TVRh5m"
      }
    },
    {
      "cell_type": "code",
      "source": [
        ""
      ],
      "metadata": {
        "id": "r37uP7fJTB-n"
      },
      "execution_count": null,
      "outputs": []
    },
    {
      "cell_type": "code",
      "source": [
        ""
      ],
      "metadata": {
        "id": "HewigwoYIWP9"
      },
      "execution_count": null,
      "outputs": []
    },
    {
      "cell_type": "code",
      "source": [
        ""
      ],
      "metadata": {
        "id": "zW-IZYmvBnid"
      },
      "execution_count": null,
      "outputs": []
    },
    {
      "cell_type": "code",
      "source": [
        ""
      ],
      "metadata": {
        "id": "z669L8LuBpPH"
      },
      "execution_count": null,
      "outputs": []
    },
    {
      "cell_type": "code",
      "source": [
        ""
      ],
      "metadata": {
        "id": "fzjt0KsbBnlc"
      },
      "execution_count": null,
      "outputs": []
    }
  ]
}
